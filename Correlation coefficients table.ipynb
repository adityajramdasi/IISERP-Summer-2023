{
 "cells": [
  {
   "cell_type": "markdown",
   "id": "2e46cbb2",
   "metadata": {},
   "source": [
    "|     ICME property    | Pearson r value | Spearman r value | Kendall tau value | Linear regression slope |\n",
    "|:--------------------:|:---------------:|:----------------:|:-----------------:|:-----------------------:|\n",
    "|         $V_{sw}$                    |     0.67509     |      0.72686     |      0.55162      |   0.01090 $\\pm$ 0.00441   |\n",
    "|         $V_{exp}$               |     0.57922     |      0.51791     |      0.38099      |   0.02212 $\\pm$ 0.01134   |\n",
    "|        $<B>_{MC}$               |     -0.02142    |      0.14138     |      0.11361      |   -0.01640 $\\pm$ 0.12298  |\n",
    "|         -DsT Index             |     -0.01421    |      0.12458     |      0.12592      |   -0.00167 $\\pm$ 0.00912  |\n",
    "|  $<\\delta B/B>_{MC}$ (tbox=40)    |     -0.37717    |     -0.38242     |      -0.28725     |  -38.13299 $\\pm$ 30.81070 |\n",
    "|  $<\\delta B/B>_{MC}$ (tbox=60)      |     -0.26890    |     -0.23622     |      -0.19417     |  -24.36350 $\\pm$ 21.21897 |\n",
    "| $<\\delta n_{p}/n_{p}>$ (tbox=40) |     -0.41603    |     -0.55801     |      -0.42338     |   -4.57204 $\\pm$ 3.69877  |\n",
    "| $<\\delta n_{p}/n_{p}>$ (tbox=60)  |     -0.38862    |     -0.48529     |      -0.37180     |   -3.34144 $\\pm$ 2.89286  |"
   ]
  }
 ],
 "metadata": {
  "kernelspec": {
   "display_name": "Python 3 (ipykernel)",
   "language": "python",
   "name": "python3"
  },
  "language_info": {
   "codemirror_mode": {
    "name": "ipython",
    "version": 3
   },
   "file_extension": ".py",
   "mimetype": "text/x-python",
   "name": "python",
   "nbconvert_exporter": "python",
   "pygments_lexer": "ipython3",
   "version": "3.9.7"
  }
 },
 "nbformat": 4,
 "nbformat_minor": 5
}
